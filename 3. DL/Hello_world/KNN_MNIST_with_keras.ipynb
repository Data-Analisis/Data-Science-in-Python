{
 "cells": [
  {
   "cell_type": "markdown",
   "metadata": {},
   "source": [
    "#### Пример свёрстки для распознавания цифр[2]"
   ]
  },
  {
   "cell_type": "code",
   "execution_count": 84,
   "metadata": {},
   "outputs": [
    {
     "name": "stdout",
     "output_type": "stream",
     "text": [
      "2.2.4\n"
     ]
    }
   ],
   "source": [
    "from keras.datasets import mnist\n",
    "from keras.models import Sequential\n",
    "from keras.layers import Dense, Dropout, Activation, Flatten\n",
    "from keras.layers import Convolution2D, MaxPooling2D\n",
    "from keras.utils import np_utils\n",
    "\n",
    "from keras import __version__\n",
    "print(__version__)"
   ]
  },
  {
   "cell_type": "code",
   "execution_count": 58,
   "metadata": {},
   "outputs": [
    {
     "name": "stdout",
     "output_type": "stream",
     "text": [
      "Downloading data from https://s3.amazonaws.com/img-datasets/mnist.npz\n",
      "11493376/11490434 [==============================] - 1s 0us/step\n"
     ]
    }
   ],
   "source": [
    "(X_train, y_train), (X_test, y_test) = mnist.load_data()"
   ]
  },
  {
   "cell_type": "code",
   "execution_count": 63,
   "metadata": {},
   "outputs": [
    {
     "data": {
      "text/plain": [
       "60000"
      ]
     },
     "execution_count": 63,
     "metadata": {},
     "output_type": "execute_result"
    }
   ],
   "source": [
    "X_train.shape[0]           "
   ]
  },
  {
   "cell_type": "code",
   "execution_count": 64,
   "metadata": {},
   "outputs": [],
   "source": [
    "# превратим каждую картинку в двумерный массив:\n",
    "batch_size, img_rows, img_cols = 64, 28, 28\n",
    "X_train = X_train.reshape([X_train.shape[0], img_rows, img_cols, 1]) # [60000, 28, 28, 1]\n",
    "X_test = X_test.reshape([X_test.shape[0], img_rows, img_cols, 1]) # [10000, 28, 28, 1]\n",
    "input_shape = (img_rows, img_cols, 1) # (28, 28, 1)"
   ]
  },
  {
   "cell_type": "code",
   "execution_count": 72,
   "metadata": {},
   "outputs": [],
   "source": [
    "# входные данные MNIST в Keras представляют собой целые числа от 0 до 255, приведем их к типу float32 и нормализуем от 0 до 1:\n",
    "X_train = X_train.astype('float32')\n",
    "X_test = X_test.astype('float32')\n",
    "\n",
    "X_train /= 255.0\n",
    "X_test /= 255.0"
   ]
  },
  {
   "cell_type": "code",
   "execution_count": 73,
   "metadata": {},
   "outputs": [],
   "source": [
    "# переведем правильные ответы в one-hot представление:\n",
    "y_train = np_utils.to_categorical(y_train, 10)\n",
    "y_test = np_utils.to_categorical(y_test, 10)"
   ]
  },
  {
   "cell_type": "code",
   "execution_count": 80,
   "metadata": {},
   "outputs": [
    {
     "name": "stderr",
     "output_type": "stream",
     "text": [
      "/usr/lib/anaconda3/lib/python3.6/site-packages/ipykernel_launcher.py:5: UserWarning: Update your `Conv2D` call to the Keras 2 API: `Conv2D(filters=32, kernel_size=(5, 5), input_shape=(28, 28, 1..., padding=\"same\")`\n",
      "  \"\"\"\n",
      "/usr/lib/anaconda3/lib/python3.6/site-packages/ipykernel_launcher.py:7: UserWarning: Update your `MaxPooling2D` call to the Keras 2 API: `MaxPooling2D(pool_size=(2, 2), strides=(2, 2), padding=\"same\")`\n",
      "  import sys\n",
      "/usr/lib/anaconda3/lib/python3.6/site-packages/ipykernel_launcher.py:8: UserWarning: Update your `Conv2D` call to the Keras 2 API: `Conv2D(filters=64, kernel_size=(5, 5), input_shape=(28, 28, 1..., padding=\"same\")`\n",
      "  \n",
      "/usr/lib/anaconda3/lib/python3.6/site-packages/ipykernel_launcher.py:10: UserWarning: Update your `MaxPooling2D` call to the Keras 2 API: `MaxPooling2D(pool_size=(2, 2), strides=(2, 2), padding=\"same\")`\n",
      "  # Remove the CWD from sys.path while we load stuff.\n"
     ]
    }
   ],
   "source": [
    "# пора задавать собственно модель:\n",
    "model = Sequential()\n",
    "\n",
    "# теперь добавим сверточные слои:\n",
    "model.add(Convolution2D(filters=32, kernel_size=(5, 5), border_mode=\"same\", input_shape=input_shape))\n",
    "model.add(Activation('relu'))\n",
    "model.add(MaxPooling2D(pool_size=(2, 2), strides=(2, 2), border_mode=\"same\"))\n",
    "model.add(Convolution2D(filters=64, kernel_size=(5, 5), border_mode=\"same\", input_shape=input_shape))\n",
    "model.add(Activation(\"relu\"))\n",
    "model.add(MaxPooling2D(pool_size=(2, 2), strides=(2, 2), border_mode=\"same\"))\n",
    "\n",
    "# и полносвязные:\n",
    "model.add(Flatten())\n",
    "model.add(Dense(1024))\n",
    "model.add(Activation(\"relu\"))\n",
    "model.add(Dropout(0.5))\n",
    "model.add(Dense(10))\n",
    "model.add(Activation(\"softmax\"))"
   ]
  },
  {
   "cell_type": "code",
   "execution_count": 85,
   "metadata": {},
   "outputs": [
    {
     "name": "stdout",
     "output_type": "stream",
     "text": [
      "WARNING:tensorflow:From /usr/lib/anaconda3/lib/python3.6/site-packages/tensorflow/python/ops/math_ops.py:3066: to_int32 (from tensorflow.python.ops.math_ops) is deprecated and will be removed in a future version.\n",
      "Instructions for updating:\n",
      "Use tf.cast instead.\n",
      "Train on 60000 samples, validate on 10000 samples\n",
      "Epoch 1/10\n",
      "60000/60000 [==============================] - 8s 126us/step - loss: 0.1303 - acc: 0.9586 - val_loss: 0.0335 - val_acc: 0.9893\n",
      "Epoch 2/10\n",
      "60000/60000 [==============================] - 6s 105us/step - loss: 0.0444 - acc: 0.9858 - val_loss: 0.0250 - val_acc: 0.9915\n",
      "Epoch 3/10\n",
      "60000/60000 [==============================] - 6s 103us/step - loss: 0.0331 - acc: 0.9895 - val_loss: 0.0231 - val_acc: 0.9926\n",
      "Epoch 4/10\n",
      "60000/60000 [==============================] - 6s 105us/step - loss: 0.0238 - acc: 0.9922 - val_loss: 0.0266 - val_acc: 0.9912\n",
      "Epoch 5/10\n",
      "60000/60000 [==============================] - 6s 105us/step - loss: 0.0201 - acc: 0.9936 - val_loss: 0.0225 - val_acc: 0.9930\n",
      "Epoch 6/10\n",
      "60000/60000 [==============================] - 6s 107us/step - loss: 0.0163 - acc: 0.9950 - val_loss: 0.0309 - val_acc: 0.9904\n",
      "Epoch 7/10\n",
      "60000/60000 [==============================] - 6s 105us/step - loss: 0.0148 - acc: 0.9953 - val_loss: 0.0280 - val_acc: 0.9925\n",
      "Epoch 8/10\n",
      "60000/60000 [==============================] - 6s 105us/step - loss: 0.0123 - acc: 0.9962 - val_loss: 0.0285 - val_acc: 0.9926\n",
      "Epoch 9/10\n",
      "60000/60000 [==============================] - 6s 106us/step - loss: 0.0111 - acc: 0.9963 - val_loss: 0.0302 - val_acc: 0.9933\n",
      "Epoch 10/10\n",
      "60000/60000 [==============================] - 6s 105us/step - loss: 0.0090 - acc: 0.9972 - val_loss: 0.0372 - val_acc: 0.9903\n"
     ]
    }
   ],
   "source": [
    "# можно компилировать и запускать обучение:\n",
    "\n",
    "model.compile(loss='categorical_crossentropy', optimizer='adam',  metrics=['accuracy'])\n",
    "model.fit(X_train, y_train, batch_size=batch_size, epochs=10, verbose=1, validation_data=(X_test, y_test))\n",
    "score = model.evaluate(X_test, y_test, verbose=0)"
   ]
  },
  {
   "cell_type": "code",
   "execution_count": 87,
   "metadata": {},
   "outputs": [
    {
     "name": "stdout",
     "output_type": "stream",
     "text": [
      "Test score: 0.037227\n",
      "Test accuracy: 0.990300\n"
     ]
    }
   ],
   "source": [
    "print(\"Test score: %f\" % score[0])\n",
    "print(\"Test accuracy: %f\" % score[1])"
   ]
  }
 ],
 "metadata": {
  "kernelspec": {
   "display_name": "Python 3",
   "language": "python",
   "name": "python3"
  },
  "language_info": {
   "codemirror_mode": {
    "name": "ipython",
    "version": 3
   },
   "file_extension": ".py",
   "mimetype": "text/x-python",
   "name": "python",
   "nbconvert_exporter": "python",
   "pygments_lexer": "ipython3",
   "version": "3.6.8"
  }
 },
 "nbformat": 4,
 "nbformat_minor": 4
}
