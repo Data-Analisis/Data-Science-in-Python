{
 "cells": [
  {
   "cell_type": "markdown",
   "metadata": {},
   "source": [
    "#### Пример свёрстки для распознавания цифр"
   ]
  },
  {
   "cell_type": "code",
   "execution_count": 20,
   "metadata": {},
   "outputs": [
    {
     "name": "stdout",
     "output_type": "stream",
     "text": [
      "Extracting MNIST_data/train-images-idx3-ubyte.gz\n",
      "Extracting MNIST_data/train-labels-idx1-ubyte.gz\n",
      "Extracting MNIST_data/t10k-images-idx3-ubyte.gz\n",
      "Extracting MNIST_data/t10k-labels-idx1-ubyte.gz\n"
     ]
    }
   ],
   "source": [
    "import tensorflow as tf\n",
    "from tensorflow.examples.tutorials.mnist import input_data\n",
    "\n",
    "\n",
    "# Скачаем датасет MNIST:\n",
    "mnist = input_data.read_data_sets(\"MNIST_data/\", one_hot=True)\n",
    "\n",
    "# Зададим заглушки для тренировочных данных:\n",
    "x = tf.placeholder(tf.float32, [None, 784])\n",
    "y = tf.placeholder(tf.float32, [None, 10])\n",
    "\n",
    "# Переформатируем входной вектор в виде двумерного массива из 28 × 28 пикселов:\n",
    "x_image = tf.reshape(x, [-1, 28, 28, 1]) # [размер батча, высота, ширина, каналы], −1 соответствует заранее неизвестному размеру мини-батча\n",
    "\n",
    "# Создадим ядро свёрстки 5 × 5\n",
    "W_conv_1 = tf.Variable(tf.truncated_normal([5, 5, 1, 32], stddev=0.1)) # [высота, ширина, входные каналы, выходные каналы]\n",
    "\n",
    "# Задаём свободные члены (biases):\n",
    "b_conv_1 = tf.Variable(tf.constant(0.1, shape=[32]))"
   ]
  },
  {
   "cell_type": "code",
   "execution_count": 22,
   "metadata": {},
   "outputs": [],
   "source": [
    "# Теперь у нас определены переменные для всех весов сверточного слоя; что с ними делать дальше, TensorFlow знает сам:\n",
    "conv_1 = tf.nn.conv2d(input=x_image, filter=W_conv_1, strides=[1, 1, 1, 1], padding='SAME') + b_conv_1 # strides просто определяет, как часто мы применяем фильтры по каждой размерности входного тензора\n",
    "\n",
    "# В качестве функции активации возьмем ReLU:\n",
    "h_conv_1 = tf.nn.relu(conv_1)\n",
    "\n",
    "# Итак, слой фильтров с нелинейностью готов. Чтобы соблюсти стандартную архитектуру сверточной сети, осталось только добавить слой субдискретизации:\n",
    "h_pool_1 = tf.nn.max_pool(value=h_conv_1, ksize=[1, 2, 2, 1], strides=[1, 2, 2, 1], padding='SAME')\n",
    "\n",
    "# Функция tf.nn.max_pool определяет max-pooling слой, выбирая максимальное значение из каждого окна. Параметр ksize здесь как раз и задает размер этого окна,\n",
    "# в котором мы выбираем максимальный элемент. Он имеет ту же структуру, что и strides. Обратите внимание, что здесь уже вполне можно представить себе ситуацию, \n",
    "# когда первая компонента будет не равна единице и мы захотим выбирать «самые подходящие» из нескольких последовательных изображений. \n",
    "# Можно даже задать первую размерность −1, тогда слой субдискретизации будет выбирать «самое подходящее» изображение из всего мини-батча.\n",
    "\n",
    "# Параметры strides и padding обозначают здесь то же самое, что и для сверточного слоя, только в этот раз мы двигаемся по изображению в обе стороны с шагом 2.\n",
    "# Понятно, что после этого слоя размер изображения в обоих направлениях уменьшится вдвое, до 14 × 14"
   ]
  },
  {
   "cell_type": "code",
   "execution_count": 25,
   "metadata": {},
   "outputs": [],
   "source": [
    "# Раз весов у нас не так уж и много, давайте по той же схеме, что и выше, добавим еще один сверточный слой и слой субдискретизации, \n",
    "# в этот раз используя на этом слое 64 фильтра:\n",
    "\n",
    "W_conv_2 = tf.Variable(tf.truncated_normal([5, 5, 32, 64], stddev=0.1))\n",
    "b_conv_2 = tf.Variable(tf.constant(0.1, shape=[64]))\n",
    "\n",
    "conv_2 = tf.nn.conv2d(input=h_pool_1, filter=W_conv_2, strides=[1, 1, 1, 1], padding='SAME') + b_conv_2\n",
    "h_conv_2 = tf.nn.relu(conv_2)\n",
    "h_pool_2 = tf.nn.max_pool(value=h_conv_2, ksize=[1, 2, 2, 1], strides=[1, 2, 2, 1], padding='SAME')"
   ]
  },
  {
   "cell_type": "code",
   "execution_count": 38,
   "metadata": {},
   "outputs": [],
   "source": [
    "# Как правило, в глубоких нейронных сетях за сверточными слоями следуют полносвязные, задача которых состоит в том, чтобы «собрать вместе» все признаки из фильтров и \n",
    "# собственно перевести их в самый последний слой, который выдаст ответ. Но для начала нам нужно из двумерного слоя сделать плоский; в TensorFlow это делается функцией reshape:\n",
    "\n",
    "h_pool_2_flat = tf.reshape(h_pool_2, [-1, 7*7*64]) # Число 7*7*64 возникло из-за того, что мы дважды применили субдискретизацию и при этом в последнем слое использовали 64 фильтра. \n",
    "\n",
    "# Теперь осталось добавить полносвязные слои. Добавляем первый слой из 1024 нейронов:\n",
    "W_fc_1 = tf.Variable(tf.truncated_normal([7*7*64, 1024], stddev=0.1))\n",
    "b_fc_1 = tf.Variable(tf.constant(0.1, shape=[1024]))\n",
    "h_fc_1 = tf.nn.relu(tf.matmul(h_pool_2_flat, W_fc_1) + b_fc_1)\n",
    "\n",
    "# Регуляризуем его дропаутом:\n",
    "keep_probability = tf.placeholder(tf.float32)\n",
    "h_fc_1_drop = tf.nn.dropout(h_fc_1, keep_probability)\n",
    "\n",
    "# Теперь добавляем второй, самый последний слой с десятью выходами:\n",
    "W_fc_2 = tf.Variable(tf.truncated_normal([1024, 10], stddev=0.1))\n",
    "b_fc_2 = tf.Variable(tf.constant(0.1, shape=[10]))\n",
    "\n",
    "logit_conv = tf.matmul(h_fc_1_drop, W_fc_2) + b_fc_2\n",
    "y_conv = tf.nn.softmax(logit_conv)\n",
    "\n",
    "# Осталось определить ошибку и ввести оптимизатор:\n",
    "cross_entropy = tf.reduce_mean(tf.nn.softmax_cross_entropy_with_logits(logits=logit_conv, labels=y))\n",
    "train_step = tf.train.AdamOptimizer(0.0001).minimize(cross_entropy)"
   ]
  },
  {
   "cell_type": "code",
   "execution_count": 39,
   "metadata": {},
   "outputs": [],
   "source": [
    "# Оцениваем точность:\n",
    "\n",
    "correct_prediction = tf.equal(tf.argmax(y_conv, 1), tf.argmax(y, 1))\n",
    "accuracy = tf.reduce_mean(tf.cast(correct_prediction, tf.float32))"
   ]
  },
  {
   "cell_type": "code",
   "execution_count": 54,
   "metadata": {},
   "outputs": [],
   "source": [
    "# И осталось только запустить обучение и дождаться результата\n",
    "\n",
    "init = tf.global_variables_initializer()\n",
    "sess = tf.Session()\n",
    "sess.run(init)\n",
    "for i in range(10000):\n",
    "    batch_xs, batch_ys = mnist.train.next_batch(64)\n",
    "    sess.run(train_step,\n",
    "        feed_dict={x: batch_xs, y: batch_ys, keep_probability: 0.5})"
   ]
  },
  {
   "cell_type": "code",
   "execution_count": 55,
   "metadata": {},
   "outputs": [
    {
     "name": "stdout",
     "output_type": "stream",
     "text": [
      "0.9893\n"
     ]
    }
   ],
   "source": [
    "print(sess.run(accuracy,\n",
    "    feed_dict={x: mnist.test.images, y: mnist.test.labels, keep_probability: 1.}))"
   ]
  }
 ],
 "metadata": {
  "kernelspec": {
   "display_name": "Python 3",
   "language": "python",
   "name": "python3"
  },
  "language_info": {
   "codemirror_mode": {
    "name": "ipython",
    "version": 3
   },
   "file_extension": ".py",
   "mimetype": "text/x-python",
   "name": "python",
   "nbconvert_exporter": "python",
   "pygments_lexer": "ipython3",
   "version": "3.6.8"
  }
 },
 "nbformat": 4,
 "nbformat_minor": 4
}
